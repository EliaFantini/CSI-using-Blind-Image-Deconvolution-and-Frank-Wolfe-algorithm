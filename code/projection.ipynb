{
 "cells": [
  {
   "cell_type": "code",
   "execution_count": 1,
   "metadata": {
    "pycharm": {
     "name": "#%%\n"
    }
   },
   "outputs": [],
   "source": [
    "import scipy.io\n",
    "import numpy as np\n",
    "from scipy.sparse import csr_matrix\n",
    "from proj_L1 import proj_L1\n",
    "from time import time"
   ]
  },
  {
   "cell_type": "code",
   "execution_count": 2,
   "metadata": {
    "pycharm": {
     "name": "#%%\n"
    }
   },
   "outputs": [],
   "source": [
    "def proj_nuc(Z, kappa):\n",
    "    #PROJNUC This function implements the projection onto nuclear norm ball.\n",
    "    \n",
    "    u,s,vh = np.linalg.svd(Z, full_matrices=False)\n",
    "    s = proj_L1(s, kappa)\n",
    "\n",
    "    return u @ np.diag(s) @ vh"
   ]
  },
  {
   "cell_type": "code",
   "execution_count": 3,
   "metadata": {
    "pycharm": {
     "name": "#%%\n"
    }
   },
   "outputs": [],
   "source": [
    "def run100k():\n",
    "    data = scipy.io.loadmat('./dataset/ml-100k/ub_base')  # load 100k dataset\n",
    "\n",
    "    Rating = data['Rating'].flatten()\n",
    "    UserID = data['UserID'].flatten() - 1  # Python indexing starts from 0 whereas Matlab from 1\n",
    "    MovID = data['MovID'].flatten() - 1    # Python indexing starts from 0 whereas Matlab from 1\n",
    "\n",
    "    nM = np.amax(data['MovID'])\n",
    "    nU = np.amax(data['UserID'])\n",
    "\n",
    "    Z = csr_matrix((Rating, (MovID, UserID)),shape=(nM, nU),dtype=float).toarray()\n",
    "    kappa = 5000\n",
    "\n",
    "    tstart = time()\n",
    "    Z_proj = proj_nuc(Z, kappa)\n",
    "    elapsed = time() - tstart\n",
    "    print('proj for 100k data takes {} sec'.format(elapsed))"
   ]
  },
  {
   "cell_type": "code",
   "execution_count": 4,
   "metadata": {
    "pycharm": {
     "name": "#%%\n"
    }
   },
   "outputs": [],
   "source": [
    "# NOTE: This one can take few minutes!\n",
    "def run1M():\n",
    "    data = scipy.io.loadmat('./dataset/ml-1m/ml1m_base')  # load 1M dataset\n",
    "\n",
    "    Rating = data['Rating'].flatten()\n",
    "    UserID = data['UserID'].flatten() - 1  # Python indexing starts from 0 whereas Matlab from 1\n",
    "    MovID = data['MovID'].flatten() - 1    # Python indexing starts from 0 whereas Matlab from 1\n",
    "\n",
    "    nM = np.amax(data['MovID'])\n",
    "    nU = np.amax(data['UserID'])\n",
    "\n",
    "    Z = csr_matrix((Rating, (MovID, UserID)),shape=(nM, nU),dtype=float).toarray()\n",
    "    kappa = 5000\n",
    "\n",
    "    tstart = time()\n",
    "    Z_proj = proj_nuc(Z, kappa)\n",
    "    elapsed = time() - tstart\n",
    "    print('proj for 1M data takes {} sec'.format(elapsed))"
   ]
  },
  {
   "cell_type": "code",
   "execution_count": 5,
   "metadata": {
    "pycharm": {
     "name": "#%%\n"
    }
   },
   "outputs": [
    {
     "name": "stdout",
     "output_type": "stream",
     "text": [
      "Run #1\n",
      "proj for 100k data takes 0.31986260414123535 sec\n",
      "proj for 1M data takes 25.209717512130737 sec\n",
      "Run #2\n",
      "proj for 100k data takes 0.29839134216308594 sec\n",
      "proj for 1M data takes 24.565474033355713 sec\n",
      "Run #3\n",
      "proj for 100k data takes 0.2955615520477295 sec\n",
      "proj for 1M data takes 24.431020259857178 sec\n",
      "Run #4\n",
      "proj for 100k data takes 0.29817795753479004 sec\n",
      "proj for 1M data takes 24.41025185585022 sec\n",
      "Run #5\n",
      "proj for 100k data takes 0.294313907623291 sec\n",
      "proj for 1M data takes 24.31813359260559 sec\n"
     ]
    }
   ],
   "source": [
    "for i in range(5):\n",
    "    print(f\"Run #{i+1}\")\n",
    "    run100k()\n",
    "    run1M()"
   ]
  },
  {
   "cell_type": "code",
   "execution_count": null,
   "outputs": [],
   "source": [],
   "metadata": {
    "collapsed": false,
    "pycharm": {
     "name": "#%%\n"
    }
   }
  }
 ],
 "metadata": {
  "anaconda-cloud": {},
  "kernelspec": {
   "name": "python3",
   "language": "python",
   "display_name": "Python 3"
  },
  "language_info": {
   "codemirror_mode": {
    "name": "ipython",
    "version": 2
   },
   "file_extension": ".py",
   "mimetype": "text/x-python",
   "name": "python",
   "nbconvert_exporter": "python",
   "pygments_lexer": "ipython2",
   "version": "2.7.15"
  }
 },
 "nbformat": 4,
 "nbformat_minor": 2
}