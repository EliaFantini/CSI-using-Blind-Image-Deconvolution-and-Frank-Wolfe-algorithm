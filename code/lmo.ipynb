{
 "cells": [
  {
   "cell_type": "code",
   "execution_count": 1,
   "metadata": {
    "pycharm": {
     "name": "#%%\n"
    }
   },
   "outputs": [],
   "source": [
    "import scipy.io\n",
    "import numpy as np\n",
    "from scipy.sparse import csr_matrix\n",
    "from scipy.sparse import linalg\n",
    "from time import time"
   ]
  },
  {
   "cell_type": "code",
   "execution_count": 2,
   "metadata": {
    "pycharm": {
     "name": "#%%\n"
    }
   },
   "outputs": [],
   "source": [
    "def lmo_nuc(Z, kappa):\n",
    "    #lmo_nuc: This function implements the lmo for the nuclear norm ball constraint. .\n",
    "    \n",
    "    u, _, vh = linalg.svds(Z, k=1)\n",
    "    return -kappa * np.outer(u, vh)"
   ]
  },
  {
   "cell_type": "code",
   "execution_count": 3,
   "metadata": {
    "pycharm": {
     "name": "#%%\n"
    }
   },
   "outputs": [],
   "source": [
    "def run100k():\n",
    "    data = scipy.io.loadmat('./dataset/ml-100k/ub_base')  # load 100k dataset\n",
    "\n",
    "    Rating = data['Rating'].flatten()\n",
    "    UserID = data['UserID'].flatten() - 1  # Python indexing starts from 0 whereas Matlab from 1\n",
    "    MovID = data['MovID'].flatten() - 1    # Python indexing starts from 0 whereas Matlab from 1\n",
    "\n",
    "    nM = np.amax(data['MovID'])\n",
    "    nU = np.amax(data['UserID'])\n",
    "\n",
    "    Z = csr_matrix((Rating, (MovID, UserID)),shape=(nM, nU),dtype=float)\n",
    "    kappa = 5000\n",
    "\n",
    "    tstart = time()\n",
    "    Z_proj = lmo_nuc(Z, kappa)\n",
    "    elapsed = time() - tstart\n",
    "    print('sharp of 100k data takes {} sec'.format(elapsed))"
   ]
  },
  {
   "cell_type": "code",
   "execution_count": 4,
   "metadata": {
    "pycharm": {
     "name": "#%%\n"
    }
   },
   "outputs": [],
   "source": [
    "# NOTE: This one can take few minutes!\n",
    "def run1M():\n",
    "    data = scipy.io.loadmat('./dataset/ml-1m/ml1m_base')  # load 1M dataset\n",
    "\n",
    "    Rating = data['Rating'].flatten()\n",
    "    UserID = data['UserID'].flatten() - 1  # Python indexing starts from 0 whereas Matlab from 1\n",
    "    MovID = data['MovID'].flatten() - 1    # Python indexing starts from 0 whereas Matlab from 1\n",
    "\n",
    "    nM = np.amax(data['MovID'])\n",
    "    nU = np.amax(data['UserID'])\n",
    "\n",
    "    Z = csr_matrix((Rating, (MovID, UserID)),shape=(nM, nU),dtype=float)\n",
    "    kappa = 5000\n",
    "\n",
    "    tstart = time()\n",
    "    Z_proj = lmo_nuc(Z, kappa)\n",
    "    elapsed = time() - tstart\n",
    "    print('sharp of 1M data takes {} sec'.format(elapsed))"
   ]
  },
  {
   "cell_type": "code",
   "execution_count": 5,
   "metadata": {
    "pycharm": {
     "name": "#%%\n"
    }
   },
   "outputs": [
    {
     "name": "stdout",
     "output_type": "stream",
     "text": [
      "Run #1\n",
      "sharp of 100k data takes 0.04515337944030762 sec\n",
      "sharp of 1M data takes 0.23843717575073242 sec\n",
      "Run #2\n",
      "sharp of 100k data takes 0.018034696578979492 sec\n",
      "sharp of 1M data takes 0.21952199935913086 sec\n",
      "Run #3\n",
      "sharp of 100k data takes 0.010908842086791992 sec\n",
      "sharp of 1M data takes 0.11727786064147949 sec\n",
      "Run #4\n",
      "sharp of 100k data takes 0.009882688522338867 sec\n",
      "sharp of 1M data takes 0.13300776481628418 sec\n",
      "Run #5\n",
      "sharp of 100k data takes 0.008525371551513672 sec\n",
      "sharp of 1M data takes 0.11441254615783691 sec\n"
     ]
    }
   ],
   "source": [
    "for i in range(5):\n",
    "    print(f\"Run #{i+1}\")\n",
    "    run100k()\n",
    "    run1M()"
   ]
  },
  {
   "cell_type": "code",
   "execution_count": null,
   "outputs": [],
   "source": [],
   "metadata": {
    "collapsed": false,
    "pycharm": {
     "name": "#%%\n"
    }
   }
  }
 ],
 "metadata": {
  "anaconda-cloud": {},
  "kernelspec": {
   "display_name": "Python 3",
   "language": "python",
   "name": "python3"
  },
  "language_info": {
   "codemirror_mode": {
    "name": "ipython",
    "version": 3
   },
   "file_extension": ".py",
   "mimetype": "text/x-python",
   "name": "python",
   "nbconvert_exporter": "python",
   "pygments_lexer": "ipython3",
   "version": "3.7.4"
  }
 },
 "nbformat": 4,
 "nbformat_minor": 2
}